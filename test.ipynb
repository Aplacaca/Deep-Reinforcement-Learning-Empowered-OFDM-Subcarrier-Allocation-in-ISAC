{
 "cells": [
  {
   "cell_type": "code",
   "execution_count": 1,
   "metadata": {},
   "outputs": [],
   "source": [
    "import numpy as np\n",
    "import pdb\n",
    "from env.ofdm_env import ISAC_BS"
   ]
  },
  {
   "cell_type": "code",
   "execution_count": 2,
   "metadata": {},
   "outputs": [],
   "source": [
    "env = ISAC_BS(N=4,N_c=4,N_r=1)\n",
    "# Power Configurations\n",
    "env.P_r = np.diag(np.ones(env.N))*1.0 # Power of Sensing\n",
    "env.P_c = np.diag(np.ones(env.N))*1.5 # Power of Communication\n",
    "rewards = []\n",
    "for i in range(4000):\n",
    "    env.U = np.random.binomial(1,0.5,(env.N_c,env.N))\n",
    "    env.D = np.random.binomial(1,0.5,(env.N_r,env.N))\n",
    "    SUM_R_P,SUM_C_P,EE_C,EE_R = env.get_performance()\n",
    "    reward = (EE_C/(1e7)+EE_R/(100))\n",
    "    rewards.append(reward)"
   ]
  },
  {
   "cell_type": "code",
   "execution_count": null,
   "metadata": {},
   "outputs": [],
   "source": [
    "import matplotlib.pyplot as plt\n",
    "import numpy as np\n",
    "\n",
    "# Generate sample data\n",
    "x = np.linspace(0, 4000, 4000)\n",
    "y1 = np.array(rewards)\n",
    "\n",
    "# Create figure\n",
    "fig, ax = plt.subplots(figsize=(6, 4), dpi=300)\n",
    "\n",
    "# Set plot style with line and markers\n",
    "ax.plot(x, y1, label='rewards', color='b', linewidth=2, marker='o', markersize=5, linestyle='-', markevery=10)\n",
    "\n",
    "# Set axis labels\n",
    "ax.set_xlabel('X-axis Label', fontsize=12)\n",
    "ax.set_ylabel('Y-axis Label', fontsize=12)\n",
    "\n",
    "# Set title\n",
    "ax.set_title('Title of the Figure', fontsize=14, fontweight='bold')\n",
    "\n",
    "# Set legend\n",
    "ax.legend(loc='upper right', fontsize=10, frameon=False)\n",
    "\n",
    "# Set tick parameters\n",
    "ax.tick_params(axis='both', which='both', direction='in', labelsize=10)\n",
    "ax.spines['top'].set_visible(False)\n",
    "ax.spines['right'].set_visible(False)\n",
    "\n",
    "# Set grid\n",
    "ax.grid(True, linestyle='--', linewidth=0.5, color='gray', alpha=0.5)\n",
    "\n",
    "# Set figure layout\n",
    "fig.tight_layout()\n",
    "\n",
    "\n",
    "# Show figure\n",
    "plt.show()\n"
   ]
  },
  {
   "cell_type": "code",
   "execution_count": null,
   "metadata": {},
   "outputs": [],
   "source": [
    "# env.U = np.random.binomial(1,0.5,size=(env.N_c,env.N))\n",
    "# env.U = np.ones((env.N_c,env.N))\n",
    "# env.D = np.ones((env.N_r,env.N))\n",
    "# env.D = np.random.binomial(1,0.5,size=(env.N_r,env.N))"
   ]
  },
  {
   "cell_type": "code",
   "execution_count": 13,
   "metadata": {},
   "outputs": [
    {
     "data": {
      "text/plain": [
       "(144,)"
      ]
     },
     "execution_count": 13,
     "metadata": {},
     "output_type": "execute_result"
    }
   ],
   "source": [
    "env = ISAC_BS(N=8,N_c=8,N_r=2)\n",
    "env._get_state().shape"
   ]
  }
 ],
 "metadata": {
  "kernelspec": {
   "display_name": "pytorch_env",
   "language": "python",
   "name": "python3"
  },
  "language_info": {
   "codemirror_mode": {
    "name": "ipython",
    "version": 3
   },
   "file_extension": ".py",
   "mimetype": "text/x-python",
   "name": "python",
   "nbconvert_exporter": "python",
   "pygments_lexer": "ipython3",
   "version": "3.10.4"
  },
  "orig_nbformat": 4
 },
 "nbformat": 4,
 "nbformat_minor": 2
}
