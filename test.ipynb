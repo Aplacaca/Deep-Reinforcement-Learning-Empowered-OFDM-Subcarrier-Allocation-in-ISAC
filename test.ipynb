{
 "cells": [
  {
   "cell_type": "code",
   "execution_count": 7,
   "metadata": {},
   "outputs": [],
   "source": [
    "import numpy as np\n",
    "import pdb"
   ]
  },
  {
   "cell_type": "code",
   "execution_count": 72,
   "metadata": {},
   "outputs": [],
   "source": [
    "class UE(object):\n",
    "    def __init__(self, id,f_c=30*1e9,delta_f=120*1e3,N=8):\n",
    "        # Channel Generation\n",
    "        self.N = N\n",
    "        self.delta_f = delta_f\n",
    "        self.f_c = f_c\n",
    "        self.d,self.h,self.h_r = self._generate_channel()\n",
    "        \n",
    "    def _generate_channel(self,):\n",
    "        d = np.random.rand()*2.0+1.0 # Range\n",
    "        theta = np.random.rand()*np.pi # Azimuth Angle\n",
    "        f_series = np.expand_dims(np.linspace(1,self.N+1,self.N), axis=0)\n",
    "        h = (3*10e8/(4*np.pi*d*f_series))**2\n",
    "        h_r = (3*10e8/(4*np.pi*(d**2)*f_series))**2\n",
    "        return d,h,h_r\n",
    "    def _update_channel(self,):\n",
    "        self.d,self.h,self.h_r = self._generate_channel()\n",
    "        "
   ]
  },
  {
   "cell_type": "code",
   "execution_count": 105,
   "metadata": {},
   "outputs": [],
   "source": [
    "class ISAC_BS(object):\n",
    "    def __init__(self, N=8, N_c=8, N_r=8):\n",
    "        # Subcarrier Configurations\n",
    "        self.N = N # Number of Subcarriers\n",
    "        self.delta_f = 120*1e3 # Subcarrier Spacing (Hz)\n",
    "        self.f_c = 30*1e9 # Carrier Frequency (Hz)\n",
    "        self.S = 14 # Number of Symbols Per Slot\n",
    "        self.T_s = 8.9286*1e-6 # Duration Per Symbol (Guarded) (s)\n",
    "        self.T_0 = 0.125*1e-3 # Minimum Scheduling Cycle (s)\n",
    "        self.C = 1000 # Scheduling Cycles During Interested Time Window\n",
    "        self.T_tot = self.C*self.T_0 # Scheduling Cycles During Interested Time Window (s)\n",
    "        # UE Generate\n",
    "        self.M_c = [UE(id=\"c\"+str(i),f_c=self.f_c,delta_f = self.delta_f,N=self.N) for i in range(N_c)] # Communication Users\n",
    "        self.M_r = [UE(id=\"r\"+str(i),f_c=self.f_c,delta_f = self.delta_f,N=self.N) for i in range(N_r)] # Sensing Targets\n",
    "        self.N_c = N_c # Number of Communication Users\n",
    "        self.N_r = N_r # Number of Sensing Targets\n",
    "        # Subcarrier Scheduling Scheme\n",
    "        # self.U = np.ones((N_c,N))\n",
    "        # self.D = np.ones((N_r,N))\n",
    "        self.U = np.diag(np.ones(N))\n",
    "        self.D = np.diag(np.ones(N))\n",
    "        # Power Configurations\n",
    "        self.P_r = np.diag(np.ones(N))*1.0 # Power of Sensing\n",
    "        self.P_c = np.diag(np.ones(N))*0.5 # Power of Communication\n",
    "        self.P_n = 1e-6 # Power of Background Noise\n",
    "        # ENV Configurations\n",
    "        self.time = 0\n",
    "        self.H_c = self.get_H_c()\n",
    "        self.H_r,self.H_cr = self.get_H_r()\n",
    "\n",
    "    def get_H_c(self,):\n",
    "        H_c = np.concatenate([UE.h for UE in self.M_c],axis=0)\n",
    "        # print(H_c.shape)\n",
    "        return H_c\n",
    "    \n",
    "    def get_H_r(self,):\n",
    "        H_r = np.concatenate([UE.h_r for UE in self.M_r],axis=0)\n",
    "        H_cr = np.concatenate([UE.h_r for UE in self.M_c],axis=0)\n",
    "        # print(H_c.shape)\n",
    "        return H_r,H_cr\n",
    "    \n",
    "    def update_channels(self,):\n",
    "        # Update Communication UE Channel\n",
    "        for UE in self.M_c:\n",
    "            UE._update_channel()\n",
    "        # Update Sensing UE Channel\n",
    "        for UE in self.M_r:\n",
    "            UE._update_channel()\n",
    "        # Recat Channels\n",
    "        self.H_c = self.get_H_c()\n",
    "        self.H_r,self.H_cr = self.get_H_r()\n",
    "        \n",
    "    def _get_comm_sinr(self,):\n",
    "        # Calculate Initial Power On Each Subcarrier\n",
    "        P_C = self.U@self.P_c\n",
    "        P_R = self.D@self.P_r\n",
    "        IP_R = np.sum(P_R, axis=0)\n",
    "        SUM_P_C = np.sum(P_C, axis=0)\n",
    "        SINR = np.zeros((self.N_c,self.N))\n",
    "        for k in range(self.N_c):\n",
    "            H_C = np.power(self.H_c[k,:],2)\n",
    "            IP_C = SUM_P_C - P_C[k,:]\n",
    "            P_useful = H_C*P_C[k,:]\n",
    "            P_in = H_C*(IP_R+IP_C)\n",
    "            SINR[k,:] = P_useful/(P_in+self.P_n)\n",
    "        return SINR    \n",
    "    \n",
    "    def _get_sensing_sinr(self,):\n",
    "        # Calculate Initial Power On Each Subcarrier\n",
    "        HP_C = self.U@self.P_c*np.power(self.H_cr,2)*self.S*(self.T_s)**2\n",
    "        HP_R = self.D@self.P_r*np.power(self.H_r,2)*self.S*(self.T_s)**2\n",
    "        IP_H_C = np.sum(HP_C, axis=0)\n",
    "        SUM_HP_R = np.sum(HP_R, axis=0)\n",
    "        SINR = np.zeros((self.N_r,self.N))\n",
    "        for l in range(self.N_r):\n",
    "            P_useful = HP_R[l,:]\n",
    "            IHP_R = SUM_HP_R - HP_R[l,:]\n",
    "            P_in = (IHP_R+IP_H_C)\n",
    "            SINR[l,:] = P_useful/(P_in+self.P_n*self.S*self.T_s)\n",
    "        return SINR\n",
    "    \n",
    "    def get_performance(self,):\n",
    "        # Calculate SINR On Each Subcarrier\n",
    "        C_SINR = self._get_comm_sinr()\n",
    "        R_SINR = self._get_sensing_sinr()\n",
    "        # Cal COMM RATE\n",
    "        SUM_R_c = self.delta_f*np.sum(np.log2(1+C_SINR))\n",
    "        # Cal Sensing SUM MI\n",
    "        SUM_MI_r = 0.5*self.S*self.T_s*self.delta_f*np.sum(np.log2(1+R_SINR))\n",
    "        print(\"C_SINR\",C_SINR)\n",
    "        print(\"R_SINR\",R_SINR)\n",
    "        print(\"SUM_R_c\",SUM_R_c)\n",
    "        print(\"SUM_MI_r\",SUM_MI_r)\n",
    "        "
   ]
  },
  {
   "cell_type": "code",
   "execution_count": 106,
   "metadata": {},
   "outputs": [
    {
     "name": "stdout",
     "output_type": "stream",
     "text": [
      "> \u001b[0;32m/tmp/ipykernel_165735/2161742159.py\u001b[0m(66)\u001b[0;36m_get_comm_sinr\u001b[0;34m()\u001b[0m\n",
      "\u001b[0;32m     64 \u001b[0;31m            \u001b[0mP_in\u001b[0m \u001b[0;34m=\u001b[0m \u001b[0mH_C\u001b[0m\u001b[0;34m*\u001b[0m\u001b[0;34m(\u001b[0m\u001b[0mIP_R\u001b[0m\u001b[0;34m+\u001b[0m\u001b[0mIP_C\u001b[0m\u001b[0;34m)\u001b[0m\u001b[0;34m\u001b[0m\u001b[0;34m\u001b[0m\u001b[0m\n",
      "\u001b[0m\u001b[0;32m     65 \u001b[0;31m            \u001b[0mpdb\u001b[0m\u001b[0;34m.\u001b[0m\u001b[0mset_trace\u001b[0m\u001b[0;34m(\u001b[0m\u001b[0;34m)\u001b[0m\u001b[0;34m\u001b[0m\u001b[0;34m\u001b[0m\u001b[0m\n",
      "\u001b[0m\u001b[0;32m---> 66 \u001b[0;31m            \u001b[0mSINR\u001b[0m\u001b[0;34m[\u001b[0m\u001b[0mk\u001b[0m\u001b[0;34m,\u001b[0m\u001b[0;34m:\u001b[0m\u001b[0;34m]\u001b[0m \u001b[0;34m=\u001b[0m \u001b[0mP_useful\u001b[0m\u001b[0;34m/\u001b[0m\u001b[0;34m(\u001b[0m\u001b[0mP_in\u001b[0m\u001b[0;34m+\u001b[0m\u001b[0mself\u001b[0m\u001b[0;34m.\u001b[0m\u001b[0mP_n\u001b[0m\u001b[0;34m)\u001b[0m\u001b[0;34m\u001b[0m\u001b[0;34m\u001b[0m\u001b[0m\n",
      "\u001b[0m\u001b[0;32m     67 \u001b[0;31m        \u001b[0;32mreturn\u001b[0m \u001b[0mSINR\u001b[0m\u001b[0;34m\u001b[0m\u001b[0;34m\u001b[0m\u001b[0m\n",
      "\u001b[0m\u001b[0;32m     68 \u001b[0;31m\u001b[0;34m\u001b[0m\u001b[0m\n",
      "\u001b[0m\n"
     ]
    }
   ],
   "source": [
    "env = ISAC_BS(N=8)\n",
    "env.get_performance()"
   ]
  },
  {
   "cell_type": "code",
   "execution_count": 45,
   "metadata": {},
   "outputs": [
    {
     "data": {
      "text/plain": [
       "(2, 1)"
      ]
     },
     "execution_count": 45,
     "metadata": {},
     "output_type": "execute_result"
    }
   ],
   "source": [
    "np.random.binomial(1,0.5,size=(2,1)).shape"
   ]
  }
 ],
 "metadata": {
  "kernelspec": {
   "display_name": "pytorch_env",
   "language": "python",
   "name": "python3"
  },
  "language_info": {
   "codemirror_mode": {
    "name": "ipython",
    "version": 3
   },
   "file_extension": ".py",
   "mimetype": "text/x-python",
   "name": "python",
   "nbconvert_exporter": "python",
   "pygments_lexer": "ipython3",
   "version": "3.10.4"
  },
  "orig_nbformat": 4
 },
 "nbformat": 4,
 "nbformat_minor": 2
}
